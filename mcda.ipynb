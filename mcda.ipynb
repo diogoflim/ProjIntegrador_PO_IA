{
 "cells": [
  {
   "cell_type": "markdown",
   "metadata": {},
   "source": [
    "[![Open In Colab](https://colab.research.google.com/assets/colab-badge.svg)](https://colab.research.google.com/github/diogoflim/ProjIntegrador_PO_IA/blob/main/mcda.ipynb)\n"
   ]
  },
  {
   "cell_type": "markdown",
   "metadata": {},
   "source": [
    "# Projeto Integrador - Aplicações de Pesquisa Operacional e Inteligência Artificial\n",
    "\n",
    "Prof: Diogo Ferreira de Lima Silva (TEP - UFF)"
   ]
  },
  {
   "cell_type": "markdown",
   "metadata": {},
   "source": [
    "## Conjunto de dados\n",
    "\n",
    "\n",
    "Trabalharemos com um conjunto de dados do Legathum Prosperity Index que avalia países com base em 12 indicadores socioeconômicos. Os dados estão armazenados em uma planilha Excel. Para realizar a leitura, utilizaremos a biblioteca Pandas."
   ]
  },
  {
   "cell_type": "code",
   "execution_count": 1,
   "metadata": {},
   "outputs": [],
   "source": [
    "import pandas as pd\n",
    "import numpy as np"
   ]
  },
  {
   "cell_type": "code",
   "execution_count": 2,
   "metadata": {},
   "outputs": [],
   "source": [
    "# Leitura dos dados\n",
    "url = 'https://raw.githubusercontent.com/diogoflim/ProjIntegrador_PO_IA/main/Dados/LegathumProsperityIndex.csv'\n",
    "df = pd.read_csv(url, index_col=0, sep = ';')\n"
   ]
  },
  {
   "cell_type": "code",
   "execution_count": 3,
   "metadata": {},
   "outputs": [
    {
     "data": {
      "text/html": [
       "<div>\n",
       "<style scoped>\n",
       "    .dataframe tbody tr th:only-of-type {\n",
       "        vertical-align: middle;\n",
       "    }\n",
       "\n",
       "    .dataframe tbody tr th {\n",
       "        vertical-align: top;\n",
       "    }\n",
       "\n",
       "    .dataframe thead th {\n",
       "        text-align: right;\n",
       "    }\n",
       "</style>\n",
       "<table border=\"1\" class=\"dataframe\">\n",
       "  <thead>\n",
       "    <tr style=\"text-align: right;\">\n",
       "      <th></th>\n",
       "      <th>Economic Quality</th>\n",
       "      <th>Education</th>\n",
       "      <th>Enterprise Conditions</th>\n",
       "      <th>Governance</th>\n",
       "      <th>Health</th>\n",
       "      <th>Infrastructure and Market Access</th>\n",
       "      <th>Investment Environment</th>\n",
       "      <th>Living Conditions</th>\n",
       "      <th>Natural Environment</th>\n",
       "      <th>Personal Freedom</th>\n",
       "      <th>Safety and Security</th>\n",
       "      <th>Social Capital</th>\n",
       "    </tr>\n",
       "    <tr>\n",
       "      <th>Alternativa</th>\n",
       "      <th></th>\n",
       "      <th></th>\n",
       "      <th></th>\n",
       "      <th></th>\n",
       "      <th></th>\n",
       "      <th></th>\n",
       "      <th></th>\n",
       "      <th></th>\n",
       "      <th></th>\n",
       "      <th></th>\n",
       "      <th></th>\n",
       "      <th></th>\n",
       "    </tr>\n",
       "  </thead>\n",
       "  <tbody>\n",
       "    <tr>\n",
       "      <th>Afghanistan</th>\n",
       "      <td>33.79</td>\n",
       "      <td>27.58</td>\n",
       "      <td>42.91</td>\n",
       "      <td>31.18</td>\n",
       "      <td>50.98</td>\n",
       "      <td>25.37</td>\n",
       "      <td>30.07</td>\n",
       "      <td>38.92</td>\n",
       "      <td>40.48</td>\n",
       "      <td>41.21</td>\n",
       "      <td>19.71</td>\n",
       "      <td>22.32</td>\n",
       "    </tr>\n",
       "    <tr>\n",
       "      <th>Albania</th>\n",
       "      <td>41.81</td>\n",
       "      <td>70.91</td>\n",
       "      <td>56.71</td>\n",
       "      <td>47.94</td>\n",
       "      <td>73.84</td>\n",
       "      <td>60.95</td>\n",
       "      <td>52.37</td>\n",
       "      <td>73.94</td>\n",
       "      <td>58.27</td>\n",
       "      <td>59.78</td>\n",
       "      <td>73.09</td>\n",
       "      <td>44.92</td>\n",
       "    </tr>\n",
       "    <tr>\n",
       "      <th>Algeria</th>\n",
       "      <td>37.83</td>\n",
       "      <td>61.87</td>\n",
       "      <td>44.44</td>\n",
       "      <td>39.64</td>\n",
       "      <td>72.47</td>\n",
       "      <td>48.77</td>\n",
       "      <td>37.95</td>\n",
       "      <td>76.62</td>\n",
       "      <td>44.89</td>\n",
       "      <td>39.56</td>\n",
       "      <td>75.23</td>\n",
       "      <td>47.04</td>\n",
       "    </tr>\n",
       "    <tr>\n",
       "      <th>Angola</th>\n",
       "      <td>31.44</td>\n",
       "      <td>27.70</td>\n",
       "      <td>33.34</td>\n",
       "      <td>33.81</td>\n",
       "      <td>50.29</td>\n",
       "      <td>31.62</td>\n",
       "      <td>22.79</td>\n",
       "      <td>42.35</td>\n",
       "      <td>50.50</td>\n",
       "      <td>40.18</td>\n",
       "      <td>61.39</td>\n",
       "      <td>44.11</td>\n",
       "    </tr>\n",
       "    <tr>\n",
       "      <th>Argentina</th>\n",
       "      <td>36.14</td>\n",
       "      <td>71.40</td>\n",
       "      <td>46.95</td>\n",
       "      <td>55.93</td>\n",
       "      <td>77.19</td>\n",
       "      <td>54.35</td>\n",
       "      <td>53.46</td>\n",
       "      <td>80.64</td>\n",
       "      <td>58.57</td>\n",
       "      <td>77.57</td>\n",
       "      <td>70.43</td>\n",
       "      <td>51.26</td>\n",
       "    </tr>\n",
       "    <tr>\n",
       "      <th>...</th>\n",
       "      <td>...</td>\n",
       "      <td>...</td>\n",
       "      <td>...</td>\n",
       "      <td>...</td>\n",
       "      <td>...</td>\n",
       "      <td>...</td>\n",
       "      <td>...</td>\n",
       "      <td>...</td>\n",
       "      <td>...</td>\n",
       "      <td>...</td>\n",
       "      <td>...</td>\n",
       "      <td>...</td>\n",
       "    </tr>\n",
       "    <tr>\n",
       "      <th>Venezuela</th>\n",
       "      <td>27.48</td>\n",
       "      <td>61.67</td>\n",
       "      <td>19.88</td>\n",
       "      <td>12.41</td>\n",
       "      <td>70.48</td>\n",
       "      <td>38.96</td>\n",
       "      <td>27.89</td>\n",
       "      <td>68.82</td>\n",
       "      <td>57.61</td>\n",
       "      <td>40.63</td>\n",
       "      <td>41.40</td>\n",
       "      <td>44.20</td>\n",
       "    </tr>\n",
       "    <tr>\n",
       "      <th>Vietnam</th>\n",
       "      <td>58.06</td>\n",
       "      <td>66.64</td>\n",
       "      <td>54.55</td>\n",
       "      <td>44.33</td>\n",
       "      <td>76.48</td>\n",
       "      <td>62.96</td>\n",
       "      <td>44.92</td>\n",
       "      <td>71.84</td>\n",
       "      <td>52.71</td>\n",
       "      <td>40.10</td>\n",
       "      <td>67.71</td>\n",
       "      <td>63.94</td>\n",
       "    </tr>\n",
       "    <tr>\n",
       "      <th>Yemen</th>\n",
       "      <td>26.05</td>\n",
       "      <td>28.72</td>\n",
       "      <td>34.39</td>\n",
       "      <td>17.41</td>\n",
       "      <td>57.02</td>\n",
       "      <td>28.35</td>\n",
       "      <td>27.49</td>\n",
       "      <td>44.57</td>\n",
       "      <td>45.34</td>\n",
       "      <td>22.95</td>\n",
       "      <td>26.48</td>\n",
       "      <td>41.20</td>\n",
       "    </tr>\n",
       "    <tr>\n",
       "      <th>Zambia</th>\n",
       "      <td>29.40</td>\n",
       "      <td>40.70</td>\n",
       "      <td>51.58</td>\n",
       "      <td>43.27</td>\n",
       "      <td>59.82</td>\n",
       "      <td>35.09</td>\n",
       "      <td>46.19</td>\n",
       "      <td>43.28</td>\n",
       "      <td>59.23</td>\n",
       "      <td>48.79</td>\n",
       "      <td>66.36</td>\n",
       "      <td>51.73</td>\n",
       "    </tr>\n",
       "    <tr>\n",
       "      <th>Zimbabwe</th>\n",
       "      <td>35.83</td>\n",
       "      <td>52.28</td>\n",
       "      <td>36.63</td>\n",
       "      <td>30.43</td>\n",
       "      <td>54.80</td>\n",
       "      <td>34.66</td>\n",
       "      <td>36.84</td>\n",
       "      <td>46.15</td>\n",
       "      <td>49.41</td>\n",
       "      <td>39.35</td>\n",
       "      <td>61.41</td>\n",
       "      <td>45.62</td>\n",
       "    </tr>\n",
       "  </tbody>\n",
       "</table>\n",
       "<p>167 rows × 12 columns</p>\n",
       "</div>"
      ],
      "text/plain": [
       "             Economic Quality  Education  Enterprise Conditions  Governance   \n",
       "Alternativa                                                                   \n",
       "Afghanistan             33.79      27.58                  42.91       31.18  \\\n",
       "Albania                 41.81      70.91                  56.71       47.94   \n",
       "Algeria                 37.83      61.87                  44.44       39.64   \n",
       "Angola                  31.44      27.70                  33.34       33.81   \n",
       "Argentina               36.14      71.40                  46.95       55.93   \n",
       "...                       ...        ...                    ...         ...   \n",
       "Venezuela               27.48      61.67                  19.88       12.41   \n",
       "Vietnam                 58.06      66.64                  54.55       44.33   \n",
       "Yemen                   26.05      28.72                  34.39       17.41   \n",
       "Zambia                  29.40      40.70                  51.58       43.27   \n",
       "Zimbabwe                35.83      52.28                  36.63       30.43   \n",
       "\n",
       "             Health  Infrastructure and Market Access  Investment Environment   \n",
       "Alternativa                                                                     \n",
       "Afghanistan   50.98                             25.37                   30.07  \\\n",
       "Albania       73.84                             60.95                   52.37   \n",
       "Algeria       72.47                             48.77                   37.95   \n",
       "Angola        50.29                             31.62                   22.79   \n",
       "Argentina     77.19                             54.35                   53.46   \n",
       "...             ...                               ...                     ...   \n",
       "Venezuela     70.48                             38.96                   27.89   \n",
       "Vietnam       76.48                             62.96                   44.92   \n",
       "Yemen         57.02                             28.35                   27.49   \n",
       "Zambia        59.82                             35.09                   46.19   \n",
       "Zimbabwe      54.80                             34.66                   36.84   \n",
       "\n",
       "             Living Conditions  Natural Environment  Personal Freedom   \n",
       "Alternativa                                                             \n",
       "Afghanistan              38.92                40.48             41.21  \\\n",
       "Albania                  73.94                58.27             59.78   \n",
       "Algeria                  76.62                44.89             39.56   \n",
       "Angola                   42.35                50.50             40.18   \n",
       "Argentina                80.64                58.57             77.57   \n",
       "...                        ...                  ...               ...   \n",
       "Venezuela                68.82                57.61             40.63   \n",
       "Vietnam                  71.84                52.71             40.10   \n",
       "Yemen                    44.57                45.34             22.95   \n",
       "Zambia                   43.28                59.23             48.79   \n",
       "Zimbabwe                 46.15                49.41             39.35   \n",
       "\n",
       "             Safety and Security  Social Capital  \n",
       "Alternativa                                       \n",
       "Afghanistan                19.71           22.32  \n",
       "Albania                    73.09           44.92  \n",
       "Algeria                    75.23           47.04  \n",
       "Angola                     61.39           44.11  \n",
       "Argentina                  70.43           51.26  \n",
       "...                          ...             ...  \n",
       "Venezuela                  41.40           44.20  \n",
       "Vietnam                    67.71           63.94  \n",
       "Yemen                      26.48           41.20  \n",
       "Zambia                     66.36           51.73  \n",
       "Zimbabwe                   61.41           45.62  \n",
       "\n",
       "[167 rows x 12 columns]"
      ]
     },
     "execution_count": 3,
     "metadata": {},
     "output_type": "execute_result"
    }
   ],
   "source": [
    "df"
   ]
  },
  {
   "cell_type": "code",
   "execution_count": 4,
   "metadata": {},
   "outputs": [
    {
     "data": {
      "text/plain": [
       "array([[33.79, 27.58, 42.91, ..., 41.21, 19.71, 22.32],\n",
       "       [41.81, 70.91, 56.71, ..., 59.78, 73.09, 44.92],\n",
       "       [37.83, 61.87, 44.44, ..., 39.56, 75.23, 47.04],\n",
       "       ...,\n",
       "       [26.05, 28.72, 34.39, ..., 22.95, 26.48, 41.2 ],\n",
       "       [29.4 , 40.7 , 51.58, ..., 48.79, 66.36, 51.73],\n",
       "       [35.83, 52.28, 36.63, ..., 39.35, 61.41, 45.62]])"
      ]
     },
     "execution_count": 4,
     "metadata": {},
     "output_type": "execute_result"
    }
   ],
   "source": [
    "X = np.array(df)\n",
    "\n",
    "X"
   ]
  },
  {
   "cell_type": "code",
   "execution_count": 5,
   "metadata": {},
   "outputs": [
    {
     "name": "stdout",
     "output_type": "stream",
     "text": [
      "O número de alternativas é: 167\n",
      "O número de critérios é: 12\n"
     ]
    }
   ],
   "source": [
    "m, n = X.shape\n",
    "\n",
    "print(f'O número de alternativas é: {m}\\nO número de critérios é: {n}')"
   ]
  },
  {
   "cell_type": "markdown",
   "metadata": {},
   "source": [
    "# Decisão Multicritério\n",
    "\n",
    "A literatura de decisão multicritério apresenta uma vasta quantidade de métodos para a resolução de problemas de decisão que envolvem múltiplos objetivos, muitas vezes conflitantes.\n",
    "\n",
    "Os principais tipos de problema (problemáticas) enfrentados são:\n",
    "\n",
    "- Descrição\n",
    "- Escolha\n",
    "- Ordenação\n",
    "- Classificação\n",
    "\n",
    "A Biblioteca PyDecision (https://github.com/Valdecy/pyDecision) inclui diversos métodos em Python. "
   ]
  },
  {
   "cell_type": "markdown",
   "metadata": {},
   "source": [
    "## PROMETHEE II\n",
    "\n",
    "Inicialmente, aplicaremos o método PROMETHEE II para ordenar as alternativas."
   ]
  },
  {
   "cell_type": "code",
   "execution_count": 147,
   "metadata": {},
   "outputs": [
    {
     "name": "stdout",
     "output_type": "stream",
     "text": [
      "^C\n"
     ]
    }
   ],
   "source": [
    "# No Google Colab\n",
    "!pip install pyDecision\n"
   ]
  },
  {
   "cell_type": "code",
   "execution_count": 6,
   "metadata": {},
   "outputs": [],
   "source": [
    "from pyDecision.algorithm import promethee_ii"
   ]
  },
  {
   "cell_type": "markdown",
   "metadata": {},
   "source": [
    "Como visto na aula, os parâmetros do PROMETHEE II incluem:\n",
    "\n",
    "- O tipo de função de preferências de cada critério;\n",
    "- Limiares de indiferença, preferência e veto para cada critério;\n",
    "- Pesos dos critérios;\n",
    "- Parâmetro $s$, caso a função de preferência s-curve seja escolhida para algum critério."
   ]
  },
  {
   "cell_type": "code",
   "execution_count": 7,
   "metadata": {},
   "outputs": [],
   "source": [
    "# Parâmetros\n",
    "Q = [5 for j in range(n)]\n",
    "S = [0 for j in range(n)]\n",
    "P = [20 for j in range(n)]\n",
    "W = [1/n for j in range(n)]\n",
    "F = ['t5' for j in range(n)] # 't1' = Usual; 't2' = U-Shape; 't3' = V-Shape; 't4' = Level; 't5' = V-Shape with Indifference; 't6' = Gaussian; 't7' = C-Form\n"
   ]
  },
  {
   "cell_type": "code",
   "execution_count": 8,
   "metadata": {},
   "outputs": [
    {
     "data": {
      "text/plain": [
       "[5, 5, 5, 5, 5, 5, 5, 5, 5, 5, 5, 5]"
      ]
     },
     "execution_count": 8,
     "metadata": {},
     "output_type": "execute_result"
    }
   ],
   "source": [
    "Q"
   ]
  },
  {
   "cell_type": "markdown",
   "metadata": {},
   "source": [
    "Vamos aplicar o PROMETHEE e armazenar os fluxos líquidos em p2.\n",
    "\n",
    "Imprimiremos na tela os resultados das 20 primeiras alternativas "
   ]
  },
  {
   "cell_type": "code",
   "execution_count": 9,
   "metadata": {},
   "outputs": [
    {
     "name": "stdout",
     "output_type": "stream",
     "text": [
      "a1: -0.689\n",
      "a2: 0.05\n",
      "a3: -0.189\n",
      "a4: -0.565\n",
      "a5: 0.097\n",
      "a6: 0.134\n",
      "a7: 0.652\n",
      "a8: 0.68\n",
      "a9: -0.034\n",
      "a10: 0.132\n",
      "a11: -0.345\n",
      "a12: 0.078\n",
      "a13: 0.562\n",
      "a14: -0.096\n",
      "a15: -0.296\n",
      "a16: -0.189\n",
      "a17: 0.003\n",
      "a18: -0.035\n",
      "a19: 0.063\n",
      "a20: 0.251\n"
     ]
    }
   ],
   "source": [
    "p2 = promethee_ii(X, W = W, Q = Q, S = S, P = P, F = F, sort = False, topn = 20)"
   ]
  },
  {
   "cell_type": "markdown",
   "metadata": {},
   "source": [
    "Podemos acessar os fluxos líquidos das alternativas e incluí-los em um DataFrame!"
   ]
  },
  {
   "cell_type": "code",
   "execution_count": 10,
   "metadata": {},
   "outputs": [
    {
     "data": {
      "text/html": [
       "<div>\n",
       "<style scoped>\n",
       "    .dataframe tbody tr th:only-of-type {\n",
       "        vertical-align: middle;\n",
       "    }\n",
       "\n",
       "    .dataframe tbody tr th {\n",
       "        vertical-align: top;\n",
       "    }\n",
       "\n",
       "    .dataframe thead th {\n",
       "        text-align: right;\n",
       "    }\n",
       "</style>\n",
       "<table border=\"1\" class=\"dataframe\">\n",
       "  <thead>\n",
       "    <tr style=\"text-align: right;\">\n",
       "      <th></th>\n",
       "      <th>Fluxo Líquido</th>\n",
       "    </tr>\n",
       "    <tr>\n",
       "      <th>Alternativa</th>\n",
       "      <th></th>\n",
       "    </tr>\n",
       "  </thead>\n",
       "  <tbody>\n",
       "    <tr>\n",
       "      <th>Afghanistan</th>\n",
       "      <td>-0.689253</td>\n",
       "    </tr>\n",
       "    <tr>\n",
       "      <th>Albania</th>\n",
       "      <td>0.049521</td>\n",
       "    </tr>\n",
       "    <tr>\n",
       "      <th>Algeria</th>\n",
       "      <td>-0.189376</td>\n",
       "    </tr>\n",
       "    <tr>\n",
       "      <th>Angola</th>\n",
       "      <td>-0.564746</td>\n",
       "    </tr>\n",
       "    <tr>\n",
       "      <th>Argentina</th>\n",
       "      <td>0.097370</td>\n",
       "    </tr>\n",
       "    <tr>\n",
       "      <th>...</th>\n",
       "      <td>...</td>\n",
       "    </tr>\n",
       "    <tr>\n",
       "      <th>Venezuela</th>\n",
       "      <td>-0.441557</td>\n",
       "    </tr>\n",
       "    <tr>\n",
       "      <th>Vietnam</th>\n",
       "      <td>0.035138</td>\n",
       "    </tr>\n",
       "    <tr>\n",
       "      <th>Yemen</th>\n",
       "      <td>-0.699471</td>\n",
       "    </tr>\n",
       "    <tr>\n",
       "      <th>Zambia</th>\n",
       "      <td>-0.312966</td>\n",
       "    </tr>\n",
       "    <tr>\n",
       "      <th>Zimbabwe</th>\n",
       "      <td>-0.463540</td>\n",
       "    </tr>\n",
       "  </tbody>\n",
       "</table>\n",
       "<p>167 rows × 1 columns</p>\n",
       "</div>"
      ],
      "text/plain": [
       "             Fluxo Líquido\n",
       "Alternativa               \n",
       "Afghanistan      -0.689253\n",
       "Albania           0.049521\n",
       "Algeria          -0.189376\n",
       "Angola           -0.564746\n",
       "Argentina         0.097370\n",
       "...                    ...\n",
       "Venezuela        -0.441557\n",
       "Vietnam           0.035138\n",
       "Yemen            -0.699471\n",
       "Zambia           -0.312966\n",
       "Zimbabwe         -0.463540\n",
       "\n",
       "[167 rows x 1 columns]"
      ]
     },
     "execution_count": 10,
     "metadata": {},
     "output_type": "execute_result"
    }
   ],
   "source": [
    "resultados = pd.DataFrame(p2[:,1], columns = ['Fluxo Líquido'], index = df.index)\n",
    "resultados\n"
   ]
  },
  {
   "cell_type": "markdown",
   "metadata": {},
   "source": [
    "Ordenando o DataFrame em ordem decrescente de fluxos!"
   ]
  },
  {
   "cell_type": "code",
   "execution_count": 11,
   "metadata": {},
   "outputs": [
    {
     "data": {
      "text/html": [
       "<div>\n",
       "<style scoped>\n",
       "    .dataframe tbody tr th:only-of-type {\n",
       "        vertical-align: middle;\n",
       "    }\n",
       "\n",
       "    .dataframe tbody tr th {\n",
       "        vertical-align: top;\n",
       "    }\n",
       "\n",
       "    .dataframe thead th {\n",
       "        text-align: right;\n",
       "    }\n",
       "</style>\n",
       "<table border=\"1\" class=\"dataframe\">\n",
       "  <thead>\n",
       "    <tr style=\"text-align: right;\">\n",
       "      <th></th>\n",
       "      <th>Fluxo Líquido</th>\n",
       "    </tr>\n",
       "    <tr>\n",
       "      <th>Alternativa</th>\n",
       "      <th></th>\n",
       "    </tr>\n",
       "  </thead>\n",
       "  <tbody>\n",
       "    <tr>\n",
       "      <th>Denmark</th>\n",
       "      <td>0.752251</td>\n",
       "    </tr>\n",
       "    <tr>\n",
       "      <th>Norway</th>\n",
       "      <td>0.749159</td>\n",
       "    </tr>\n",
       "    <tr>\n",
       "      <th>Sweden</th>\n",
       "      <td>0.747540</td>\n",
       "    </tr>\n",
       "    <tr>\n",
       "      <th>Finland</th>\n",
       "      <td>0.742711</td>\n",
       "    </tr>\n",
       "    <tr>\n",
       "      <th>Switzerland</th>\n",
       "      <td>0.734687</td>\n",
       "    </tr>\n",
       "    <tr>\n",
       "      <th>...</th>\n",
       "      <td>...</td>\n",
       "    </tr>\n",
       "    <tr>\n",
       "      <th>Chad</th>\n",
       "      <td>-0.680064</td>\n",
       "    </tr>\n",
       "    <tr>\n",
       "      <th>Afghanistan</th>\n",
       "      <td>-0.689253</td>\n",
       "    </tr>\n",
       "    <tr>\n",
       "      <th>Central African Republic</th>\n",
       "      <td>-0.690715</td>\n",
       "    </tr>\n",
       "    <tr>\n",
       "      <th>Yemen</th>\n",
       "      <td>-0.699471</td>\n",
       "    </tr>\n",
       "    <tr>\n",
       "      <th>South Sudan</th>\n",
       "      <td>-0.750571</td>\n",
       "    </tr>\n",
       "  </tbody>\n",
       "</table>\n",
       "<p>167 rows × 1 columns</p>\n",
       "</div>"
      ],
      "text/plain": [
       "                          Fluxo Líquido\n",
       "Alternativa                            \n",
       "Denmark                        0.752251\n",
       "Norway                         0.749159\n",
       "Sweden                         0.747540\n",
       "Finland                        0.742711\n",
       "Switzerland                    0.734687\n",
       "...                                 ...\n",
       "Chad                          -0.680064\n",
       "Afghanistan                   -0.689253\n",
       "Central African Republic      -0.690715\n",
       "Yemen                         -0.699471\n",
       "South Sudan                   -0.750571\n",
       "\n",
       "[167 rows x 1 columns]"
      ]
     },
     "execution_count": 11,
     "metadata": {},
     "output_type": "execute_result"
    }
   ],
   "source": [
    "ordem = resultados.sort_values(by = 'Fluxo Líquido', ascending=False, inplace=False)\n",
    "ordem"
   ]
  },
  {
   "cell_type": "markdown",
   "metadata": {},
   "source": [
    "Vejamos as 10 melhores alternativas!"
   ]
  },
  {
   "cell_type": "code",
   "execution_count": 12,
   "metadata": {},
   "outputs": [
    {
     "data": {
      "text/html": [
       "<div>\n",
       "<style scoped>\n",
       "    .dataframe tbody tr th:only-of-type {\n",
       "        vertical-align: middle;\n",
       "    }\n",
       "\n",
       "    .dataframe tbody tr th {\n",
       "        vertical-align: top;\n",
       "    }\n",
       "\n",
       "    .dataframe thead th {\n",
       "        text-align: right;\n",
       "    }\n",
       "</style>\n",
       "<table border=\"1\" class=\"dataframe\">\n",
       "  <thead>\n",
       "    <tr style=\"text-align: right;\">\n",
       "      <th></th>\n",
       "      <th>Fluxo Líquido</th>\n",
       "    </tr>\n",
       "    <tr>\n",
       "      <th>Alternativa</th>\n",
       "      <th></th>\n",
       "    </tr>\n",
       "  </thead>\n",
       "  <tbody>\n",
       "    <tr>\n",
       "      <th>Denmark</th>\n",
       "      <td>0.752251</td>\n",
       "    </tr>\n",
       "    <tr>\n",
       "      <th>Norway</th>\n",
       "      <td>0.749159</td>\n",
       "    </tr>\n",
       "    <tr>\n",
       "      <th>Sweden</th>\n",
       "      <td>0.747540</td>\n",
       "    </tr>\n",
       "    <tr>\n",
       "      <th>Finland</th>\n",
       "      <td>0.742711</td>\n",
       "    </tr>\n",
       "    <tr>\n",
       "      <th>Switzerland</th>\n",
       "      <td>0.734687</td>\n",
       "    </tr>\n",
       "    <tr>\n",
       "      <th>New Zealand</th>\n",
       "      <td>0.705904</td>\n",
       "    </tr>\n",
       "    <tr>\n",
       "      <th>Netherlands</th>\n",
       "      <td>0.704447</td>\n",
       "    </tr>\n",
       "    <tr>\n",
       "      <th>Luxembourg</th>\n",
       "      <td>0.689786</td>\n",
       "    </tr>\n",
       "    <tr>\n",
       "      <th>Iceland</th>\n",
       "      <td>0.685081</td>\n",
       "    </tr>\n",
       "    <tr>\n",
       "      <th>Germany</th>\n",
       "      <td>0.683885</td>\n",
       "    </tr>\n",
       "  </tbody>\n",
       "</table>\n",
       "</div>"
      ],
      "text/plain": [
       "             Fluxo Líquido\n",
       "Alternativa               \n",
       "Denmark           0.752251\n",
       "Norway            0.749159\n",
       "Sweden            0.747540\n",
       "Finland           0.742711\n",
       "Switzerland       0.734687\n",
       "New Zealand       0.705904\n",
       "Netherlands       0.704447\n",
       "Luxembourg        0.689786\n",
       "Iceland           0.685081\n",
       "Germany           0.683885"
      ]
     },
     "execution_count": 12,
     "metadata": {},
     "output_type": "execute_result"
    }
   ],
   "source": [
    "ordem.iloc[:10]"
   ]
  },
  {
   "cell_type": "markdown",
   "metadata": {},
   "source": [
    "Quais são as 10 piores?"
   ]
  },
  {
   "cell_type": "code",
   "execution_count": 13,
   "metadata": {},
   "outputs": [
    {
     "data": {
      "text/html": [
       "<div>\n",
       "<style scoped>\n",
       "    .dataframe tbody tr th:only-of-type {\n",
       "        vertical-align: middle;\n",
       "    }\n",
       "\n",
       "    .dataframe tbody tr th {\n",
       "        vertical-align: top;\n",
       "    }\n",
       "\n",
       "    .dataframe thead th {\n",
       "        text-align: right;\n",
       "    }\n",
       "</style>\n",
       "<table border=\"1\" class=\"dataframe\">\n",
       "  <thead>\n",
       "    <tr style=\"text-align: right;\">\n",
       "      <th></th>\n",
       "      <th>Fluxo Líquido</th>\n",
       "    </tr>\n",
       "    <tr>\n",
       "      <th>Alternativa</th>\n",
       "      <th></th>\n",
       "    </tr>\n",
       "  </thead>\n",
       "  <tbody>\n",
       "    <tr>\n",
       "      <th>Syria</th>\n",
       "      <td>-0.597792</td>\n",
       "    </tr>\n",
       "    <tr>\n",
       "      <th>Sudan</th>\n",
       "      <td>-0.624396</td>\n",
       "    </tr>\n",
       "    <tr>\n",
       "      <th>Democratic Republic of Congo</th>\n",
       "      <td>-0.656097</td>\n",
       "    </tr>\n",
       "    <tr>\n",
       "      <th>Somalia</th>\n",
       "      <td>-0.661713</td>\n",
       "    </tr>\n",
       "    <tr>\n",
       "      <th>Eritrea</th>\n",
       "      <td>-0.663268</td>\n",
       "    </tr>\n",
       "    <tr>\n",
       "      <th>Chad</th>\n",
       "      <td>-0.680064</td>\n",
       "    </tr>\n",
       "    <tr>\n",
       "      <th>Afghanistan</th>\n",
       "      <td>-0.689253</td>\n",
       "    </tr>\n",
       "    <tr>\n",
       "      <th>Central African Republic</th>\n",
       "      <td>-0.690715</td>\n",
       "    </tr>\n",
       "    <tr>\n",
       "      <th>Yemen</th>\n",
       "      <td>-0.699471</td>\n",
       "    </tr>\n",
       "    <tr>\n",
       "      <th>South Sudan</th>\n",
       "      <td>-0.750571</td>\n",
       "    </tr>\n",
       "  </tbody>\n",
       "</table>\n",
       "</div>"
      ],
      "text/plain": [
       "                              Fluxo Líquido\n",
       "Alternativa                                \n",
       "Syria                             -0.597792\n",
       "Sudan                             -0.624396\n",
       "Democratic Republic of Congo      -0.656097\n",
       "Somalia                           -0.661713\n",
       "Eritrea                           -0.663268\n",
       "Chad                              -0.680064\n",
       "Afghanistan                       -0.689253\n",
       "Central African Republic          -0.690715\n",
       "Yemen                             -0.699471\n",
       "South Sudan                       -0.750571"
      ]
     },
     "execution_count": 13,
     "metadata": {},
     "output_type": "execute_result"
    }
   ],
   "source": [
    "ordem.iloc[-10:]"
   ]
  },
  {
   "cell_type": "markdown",
   "metadata": {},
   "source": [
    "Vamos armazenar os resultados em um csv!"
   ]
  },
  {
   "cell_type": "code",
   "execution_count": 14,
   "metadata": {},
   "outputs": [],
   "source": [
    "ordem.to_excel('meus_resultados_promethee.xlsx')"
   ]
  },
  {
   "cell_type": "code",
   "execution_count": null,
   "metadata": {},
   "outputs": [],
   "source": []
  }
 ],
 "metadata": {
  "kernelspec": {
   "display_name": "base",
   "language": "python",
   "name": "python3"
  },
  "language_info": {
   "codemirror_mode": {
    "name": "ipython",
    "version": 3
   },
   "file_extension": ".py",
   "mimetype": "text/x-python",
   "name": "python",
   "nbconvert_exporter": "python",
   "pygments_lexer": "ipython3",
   "version": "3.9.7"
  },
  "orig_nbformat": 4
 },
 "nbformat": 4,
 "nbformat_minor": 2
}
