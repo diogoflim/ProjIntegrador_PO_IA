{
 "cells": [
  {
   "cell_type": "markdown",
   "id": "312233b5",
   "metadata": {},
   "source": [
    "[![Open In Colab](https://colab.research.google.com/assets/colab-badge.svg)](https://colab.research.google.com/github/diogoflim/AM/blob/main/2_Regressão_Linear/2_reg_linear.ipynb)\n"
   ]
  },
  {
   "attachments": {},
   "cell_type": "markdown",
   "id": "2c21e6e8-ca56-42bd-9f00-6409f8a17dca",
   "metadata": {
    "tags": []
   },
   "source": [
    "# Aprendizado de máquina e decisões dirigidas por dados\n",
    "\n",
    "**Professor: Diogo Ferreira de Lima Silva**\n",
    "\n",
    "**TPP - UFF**"
   ]
  },
  {
   "cell_type": "markdown",
   "id": "3ec05b30-81b8-43f8-a226-cf3638a317d8",
   "metadata": {},
   "source": [
    "## Bibliotecas"
   ]
  },
  {
   "cell_type": "code",
   "execution_count": 2,
   "id": "e7565234-7433-4403-9590-bf926ed94b9f",
   "metadata": {},
   "outputs": [],
   "source": [
    "import numpy as np\n",
    "%matplotlib inline\n",
    "import matplotlib.pyplot as plt"
   ]
  },
  {
   "cell_type": "markdown",
   "id": "9615b5a6-2c48-45be-b506-6c4ad74e9422",
   "metadata": {},
   "source": [
    "# Regressão"
   ]
  },
  {
   "cell_type": "markdown",
   "id": "8392d34f-f652-4d66-9837-6cc37f8efa89",
   "metadata": {},
   "source": [
    "Em tarefas de regressão, o programa de computador é solicitado a aprender uma função que gera um rótulo com valor numérico (ex: um número real) dado alguma entrada. \n",
    "\n",
    "Para resolver essa tarefa, o algoritmo de aprendizagem precisa gerar uma função:\n",
    "\n",
    "$$\\hat{y} = f:\\mathbb{R}^n→\\mathbb{R}$$ "
   ]
  },
  {
   "cell_type": "markdown",
   "id": "337075ec-b43b-4c23-99bc-09e1c88186d7",
   "metadata": {},
   "source": [
    "## Regressão Linear"
   ]
  },
  {
   "cell_type": "markdown",
   "id": "65610309-a072-4f9d-b6e8-483b39b5c099",
   "metadata": {},
   "source": [
    "Em um modelo de regressão linear, a função aprendida $f$ apresenta linearidade em termos dos parâmetros.\n",
    "\n",
    "Exemplo:\n",
    "\n",
    "$$f_{\\vec{w},b}(\\vec{x})=w_1x_1+w_2x_2+...+w_nx_n + b$$\n",
    "\n",
    "$\\vec{w}$ e $b$ são os parâmetros (coeficientes, pesos) que desejamos aprender\n"
   ]
  },
  {
   "cell_type": "markdown",
   "id": "b52dc91b-11a0-49a0-a33a-1bc3074dc84d",
   "metadata": {},
   "source": [
    "## Regressão Linear Simples"
   ]
  },
  {
   "cell_type": "markdown",
   "id": "213ad97f-6a90-49a0-8d0b-796a1cfb8e51",
   "metadata": {},
   "source": [
    "Para entender a intuição de modelos de regressão linear, iniciaremos com o caso mais simples, quando há apenas um atributo x. \n",
    "\n",
    "**Esse modelo é chamado de regressão linear simples.**\n",
    "\n",
    "Exemplos:\n",
    "\n",
    "- entender o relacionamento entre os preços de títulos financeiros e o valor do dólar;  \n",
    "- prever o consumo de energia elétrica com base no tamanho da fábrica."
   ]
  },
  {
   "attachments": {},
   "cell_type": "markdown",
   "id": "32e52053-f143-41ea-b906-9a04c9992900",
   "metadata": {},
   "source": [
    "Vamos iniciar plotando um gráfico de dispersão para uma função linear qualquer. Para isso, criaremos um vetor de observações aleatórias para um atributo x."
   ]
  },
  {
   "cell_type": "code",
   "execution_count": 5,
   "id": "5fbb9329-eb6c-4d77-a1a0-22c1eb47b20c",
   "metadata": {},
   "outputs": [
    {
     "name": "stdout",
     "output_type": "stream",
     "text": [
      "[[141.72927008]\n",
      " [158.22193239]\n",
      " [ 97.0604141 ]\n",
      " [169.05812849]\n",
      " [185.64045404]\n",
      " [112.33115259]\n",
      " [210.38783202]\n",
      " [238.66531027]\n",
      " [119.07186719]\n",
      " [151.23875659]]\n"
     ]
    }
   ],
   "source": [
    "mu, sigma = 150, 50 # média e desvio padrão\n",
    "\n",
    "# gerando 100 variáveis entre 0 e 2\n",
    "X = np.random.normal(mu, sigma, size=(100,1)) \n",
    "\n",
    "print (X[:10])"
   ]
  },
  {
   "cell_type": "markdown",
   "id": "48eab1b3-375a-47f1-b8c8-e63961c3f9c1",
   "metadata": {},
   "source": [
    "Associaremos um rótulo a cada entrada x com base em uma função linear acrescida de uma pequena aleatoriedade."
   ]
  },
  {
   "cell_type": "code",
   "execution_count": 6,
   "id": "0b5517ce-8680-4fb4-8c94-334dda806bf7",
   "metadata": {},
   "outputs": [],
   "source": [
    "mu_2, sigma_2 = 0, 10\n",
    "\n",
    "y = 25 + 2 * X + np.random.normal(mu_2, sigma_2, size=(100,1))"
   ]
  },
  {
   "cell_type": "markdown",
   "id": "3dee2dc7-9712-4321-8607-dcd87630c2bd",
   "metadata": {},
   "source": [
    "### Conjunto de Dados"
   ]
  },
  {
   "cell_type": "code",
   "execution_count": 7,
   "id": "d61228e4-5086-4bf0-b491-2a21cef16fa7",
   "metadata": {},
   "outputs": [
    {
     "data": {
      "text/html": [
       "<div>\n",
       "<style scoped>\n",
       "    .dataframe tbody tr th:only-of-type {\n",
       "        vertical-align: middle;\n",
       "    }\n",
       "\n",
       "    .dataframe tbody tr th {\n",
       "        vertical-align: top;\n",
       "    }\n",
       "\n",
       "    .dataframe thead th {\n",
       "        text-align: right;\n",
       "    }\n",
       "</style>\n",
       "<table border=\"1\" class=\"dataframe\">\n",
       "  <thead>\n",
       "    <tr style=\"text-align: right;\">\n",
       "      <th></th>\n",
       "      <th>Área</th>\n",
       "      <th>Preço (1000's)</th>\n",
       "    </tr>\n",
       "  </thead>\n",
       "  <tbody>\n",
       "    <tr>\n",
       "      <th>0</th>\n",
       "      <td>141.73</td>\n",
       "      <td>310.28</td>\n",
       "    </tr>\n",
       "    <tr>\n",
       "      <th>1</th>\n",
       "      <td>158.22</td>\n",
       "      <td>331.67</td>\n",
       "    </tr>\n",
       "    <tr>\n",
       "      <th>2</th>\n",
       "      <td>97.06</td>\n",
       "      <td>216.19</td>\n",
       "    </tr>\n",
       "    <tr>\n",
       "      <th>3</th>\n",
       "      <td>169.06</td>\n",
       "      <td>364.90</td>\n",
       "    </tr>\n",
       "    <tr>\n",
       "      <th>4</th>\n",
       "      <td>185.64</td>\n",
       "      <td>395.45</td>\n",
       "    </tr>\n",
       "    <tr>\n",
       "      <th>...</th>\n",
       "      <td>...</td>\n",
       "      <td>...</td>\n",
       "    </tr>\n",
       "    <tr>\n",
       "      <th>95</th>\n",
       "      <td>121.75</td>\n",
       "      <td>264.89</td>\n",
       "    </tr>\n",
       "    <tr>\n",
       "      <th>96</th>\n",
       "      <td>112.99</td>\n",
       "      <td>249.51</td>\n",
       "    </tr>\n",
       "    <tr>\n",
       "      <th>97</th>\n",
       "      <td>101.72</td>\n",
       "      <td>245.35</td>\n",
       "    </tr>\n",
       "    <tr>\n",
       "      <th>98</th>\n",
       "      <td>93.51</td>\n",
       "      <td>218.81</td>\n",
       "    </tr>\n",
       "    <tr>\n",
       "      <th>99</th>\n",
       "      <td>133.47</td>\n",
       "      <td>284.09</td>\n",
       "    </tr>\n",
       "  </tbody>\n",
       "</table>\n",
       "<p>100 rows × 2 columns</p>\n",
       "</div>"
      ],
      "text/plain": [
       "      Área  Preço (1000's)\n",
       "0   141.73          310.28\n",
       "1   158.22          331.67\n",
       "2    97.06          216.19\n",
       "3   169.06          364.90\n",
       "4   185.64          395.45\n",
       "..     ...             ...\n",
       "95  121.75          264.89\n",
       "96  112.99          249.51\n",
       "97  101.72          245.35\n",
       "98   93.51          218.81\n",
       "99  133.47          284.09\n",
       "\n",
       "[100 rows x 2 columns]"
      ]
     },
     "execution_count": 7,
     "metadata": {},
     "output_type": "execute_result"
    }
   ],
   "source": [
    "import pandas as pd\n",
    "pd.DataFrame(np.concatenate((X,y), axis=1), columns = [\"Área\", \"Preço (1000's)\"]).round(2)"
   ]
  },
  {
   "cell_type": "markdown",
   "id": "f864426f",
   "metadata": {},
   "source": [
    "Plotando os dados"
   ]
  },
  {
   "cell_type": "code",
   "execution_count": 8,
   "id": "9ffc3e49-18ad-40b5-8095-297cd8037dc2",
   "metadata": {},
   "outputs": [
    {
     "data": {
      "text/plain": [
       "Text(0, 0.5, 'Preço em (1000 R$)')"
      ]
     },
     "execution_count": 8,
     "metadata": {},
     "output_type": "execute_result"
    },
    {
     "data": {
      "image/png": "[encoded data removed]",
      "text/plain": [
       "<Figure size 432x288 with 1 Axes>"
      ]
     },
     "metadata": {
      "needs_background": "light"
     },
     "output_type": "display_data"
    }
   ],
   "source": [
    "plt.plot(X, y, \"b.\")\n",
    "plt.xlabel('Área construída (m^2)')\n",
    "plt.ylabel('Preço em (1000 R$)')"
   ]
  },
  {
   "cell_type": "markdown",
   "id": "71e3de35-2397-49c6-89f0-da07e15c4902",
   "metadata": {},
   "source": [
    "### Interpretação Estatística"
   ]
  },
  {
   "cell_type": "markdown",
   "id": "a03e9927-40c3-4dad-b4ef-c80cf3b895be",
   "metadata": {},
   "source": [
    "**Ideia central**: É impossível obter uma reta que passe por todos os pontos, porém podemos perceber um relacionamento linear.\n",
    "\n",
    "Existe uma indicação de que os pontos estariam dispostos aleatoriamente em volta de uma reta. \n",
    "\n",
    "Assim, seria razoável assumir que a média da variável aleatória $y$ está relacionada à variável explanatória $x$ por um relacionamento linear\n",
    "\n",
    "$$E(y│x)=μ_{y|x}=w_0+w_1 x$$\n",
    "\n",
    "- $w_0$ é o intercepto da equação\n",
    "- $w_1$ é o coeficiente angular. \n",
    "\n",
    "\n",
    "**Interpretação**: Embora a média de y seja uma função linear de $x$, um valor observado qualquer $y^{(i)}$ não cai necessariamente precisamente na reta. \n",
    "\n",
    "$$y^{(i)}=w_0+w_1x^{(i)} + \\epsilon$$\n",
    "\n",
    "Assim, precisamos estimar $w_0$ e $w_1$ de modo a obter o modelo menos custoso. \n"
   ]
  },
  {
   "cell_type": "markdown",
   "id": "6a0424dd-37ec-4688-8750-cc039cbfbecd",
   "metadata": {},
   "source": [
    "### Erro Médio Quadrático"
   ]
  },
  {
   "cell_type": "markdown",
   "id": "87c6251c-179a-47a2-b0a4-b6b2ee068ade",
   "metadata": {},
   "source": [
    "Fazemos isso minimizando a função custo associada ao erro médio quadrático.\n",
    "\n",
    "$$min_{w,b}⁡ \\ J= \\frac{1}{2m} \\sum_{i=1}^m [( wx^{(i)}+b) - y^{(i)}]^2$$"
   ]
  },
  {
   "cell_type": "code",
   "execution_count": 9,
   "id": "cfd424bf-a7d3-4613-a597-5f0528504805",
   "metadata": {},
   "outputs": [],
   "source": [
    "def custo_total (x, y, w, b):\n",
    "    m = x.shape[0] \n",
    "    custo = 0\n",
    "    for i in range(m):\n",
    "        f_wb = w * x[i] + b\n",
    "        custo = custo + (f_wb - y[i])**2 \n",
    "    J = 1 / (2 * m) * custo\n",
    "    return J"
   ]
  },
  {
   "cell_type": "code",
   "execution_count": 10,
   "id": "12bf21ef-fb0b-4245-952a-251d0348b8a0",
   "metadata": {},
   "outputs": [
    {
     "data": {
      "text/plain": [
       "array([47309.57])"
      ]
     },
     "execution_count": 10,
     "metadata": {},
     "output_type": "execute_result"
    }
   ],
   "source": [
    "# Vamos calcular o custo de com w = 4 e b = 10\n",
    "\n",
    "custo_total (X,y, w = 4, b = 10).round(2)"
   ]
  },
  {
   "cell_type": "markdown",
   "id": "7050db1e",
   "metadata": {},
   "source": [
    "### Como encontrar as melhores estimativas de $w$ e $b$?"
   ]
  },
  {
   "cell_type": "markdown",
   "id": "65d53d6a-045d-465e-a433-97b7cf20e5b1",
   "metadata": {},
   "source": [
    "Sabemos que a nossa função custo é convexa em relação aos parâmetros!\n",
    "\n",
    "**Estratégias Possíveis**:\n",
    "\n",
    "1. Buscar a solução fechada (exata)\n",
    "\n",
    "- A função pode ser minimizada com o sistema de derivadas parciais igualadas a zero\n",
    "\n",
    "2. Gradiente descendente"
   ]
  },
  {
   "cell_type": "markdown",
   "id": "c9898f16",
   "metadata": {},
   "source": [
    "### Solução Fechada\n",
    "\n",
    "Podemos minimizar $J$, pelas condições de primeira ordem de otimização.\n",
    "\n",
    "Escolheremos as estimativas de parâmetros que satisfaçam:\n",
    "\n",
    "$$\\frac{\\partial J}{\\partial w_0} = 0$$\n",
    "\n",
    "$$\\frac{\\partial J}{\\partial w_1} = 0$$\n"
   ]
  },
  {
   "cell_type": "markdown",
   "id": "22844e19-de14-41fb-9f82-3d5d1f4b1517",
   "metadata": {},
   "source": [
    "Como visto na sala de aula, a solução do sistema acima resulta nas fórmulas a seguir (presentes em livros de estatística):\n",
    "\n",
    "\n",
    "$${\\hat{w}} = \\frac{\\sum_{i=1}^{m}{y^{(i)}x^{(i)}}-\\frac{\\left(\\sum_{i=1}^{m}y^{(i)}\\right)\\left(\\sum_{i=1}^{m}x^{(i)}\\right)}{m}}{\\sum_{i=1}^{m} {x^{(i)}}^{2} -\\frac{({\\sum_{i=1}^{m}{x^{(i)})}}^2}{m}}$$\n",
    "\n",
    "\n",
    "$${\\hat{b}}=\\bar{y} - {\\hat{w}} \\bar{x}$$\n"
   ]
  },
  {
   "cell_type": "markdown",
   "id": "e3623e93-600c-440e-9845-2c8d7efbe411",
   "metadata": {},
   "source": [
    "Assim, obtém-se o modelo regressor $$\\hat{y}={\\hat{w}}x + \\hat{b}$$ estima o valor médio do modelo de regressão. \n",
    "\n",
    "Cada observação satisfaz a relação $y^{(i)}={\\hat{b}}+{\\hat{w}}x+\\epsilon$, onde $\\epsilon=y^{(i)}-{\\hat{y}}^{(i)}$ é chamado de desvio ou resíduo."
   ]
  },
  {
   "cell_type": "code",
   "execution_count": 11,
   "id": "c486dffd",
   "metadata": {},
   "outputs": [
    {
     "name": "stdout",
     "output_type": "stream",
     "text": [
      "[[1.96958152]]\n",
      "[[28.61363963]]\n"
     ]
    }
   ],
   "source": [
    "m=X.shape[0]\n",
    "\n",
    "w_hat = (y.T @ X - (np.sum(y) * np.sum(X)) / m) / (X.T @ X - np.sum(X)**2/m)\n",
    "\n",
    "b_hat = np.mean(y) - w_hat * np.mean(X)\n",
    "\n",
    "print(w_hat)\n",
    "print(b_hat)"
   ]
  },
  {
   "cell_type": "code",
   "execution_count": 12,
   "id": "3d6dcbfe",
   "metadata": {},
   "outputs": [
    {
     "data": {
      "text/plain": [
       "array([[53.42]])"
      ]
     },
     "execution_count": 12,
     "metadata": {},
     "output_type": "execute_result"
    }
   ],
   "source": [
    "#Calculando o custo nas estimativas!\n",
    "\n",
    "custo_total (X,y, w_hat, b_hat).round(2)"
   ]
  },
  {
   "cell_type": "markdown",
   "id": "1c7b74c6",
   "metadata": {},
   "source": [
    "### Usando a biblioteca sklearn"
   ]
  },
  {
   "cell_type": "code",
   "execution_count": 13,
   "id": "2960c000",
   "metadata": {},
   "outputs": [
    {
     "data": {
      "text/plain": [
       "(array([[1.96958152]]), array([28.61363963]))"
      ]
     },
     "execution_count": 13,
     "metadata": {},
     "output_type": "execute_result"
    }
   ],
   "source": [
    "from sklearn.linear_model import LinearRegression\n",
    "\n",
    "lin_reg = LinearRegression()\n",
    "lin_reg.fit(X, y)\n",
    "lin_reg.coef_, lin_reg.intercept_"
   ]
  },
  {
   "cell_type": "markdown",
   "id": "8042ef6e",
   "metadata": {},
   "source": [
    "Perceba que obtivemos os mesmos valores!"
   ]
  },
  {
   "cell_type": "markdown",
   "id": "e68ce1c7",
   "metadata": {},
   "source": [
    "### Gerando exemplos de teste\n",
    "\n",
    "Vamos usar a mesma metodologia acima para gerar valores para teste"
   ]
  },
  {
   "cell_type": "code",
   "execution_count": 14,
   "id": "eb85e9ab",
   "metadata": {},
   "outputs": [],
   "source": [
    "mu, sigma = 150, 50 # média e desvio padrão\n",
    "mu_2, sigma_2 = 0, 10\n",
    "X_teste = np.random.normal(mu, sigma, size=(30,1))\n",
    "y_teste = 25 + 2 * X_teste + np.random.normal(mu_2, sigma_2, size=(30,1))"
   ]
  },
  {
   "cell_type": "markdown",
   "id": "9c0281dd",
   "metadata": {},
   "source": [
    "Usando os parâmetros estimados acima em lin_reg, podemos prever os preços "
   ]
  },
  {
   "cell_type": "code",
   "execution_count": 15,
   "id": "5050e6e8",
   "metadata": {},
   "outputs": [
    {
     "data": {
      "text/plain": [
       "array([[282.22468104],\n",
       "       [477.86862893],\n",
       "       [361.84606974],\n",
       "       [418.59230186],\n",
       "       [252.90304182],\n",
       "       [393.01504347],\n",
       "       [378.05935573],\n",
       "       [471.73937276],\n",
       "       [386.11166635],\n",
       "       [455.49717423],\n",
       "       [297.58870165],\n",
       "       [237.53566013],\n",
       "       [343.77412876],\n",
       "       [272.60774886],\n",
       "       [370.3799107 ],\n",
       "       [405.85355889],\n",
       "       [355.66040656],\n",
       "       [210.17183249],\n",
       "       [295.94274081],\n",
       "       [512.02406565],\n",
       "       [289.56143527],\n",
       "       [225.70234517],\n",
       "       [266.50024363],\n",
       "       [456.94526073],\n",
       "       [356.78167919],\n",
       "       [382.96490161],\n",
       "       [307.06230012],\n",
       "       [144.42090551],\n",
       "       [296.01816851],\n",
       "       [363.05894857]])"
      ]
     },
     "execution_count": 15,
     "metadata": {},
     "output_type": "execute_result"
    }
   ],
   "source": [
    "lin_reg.predict(X_teste)"
   ]
  },
  {
   "cell_type": "markdown",
   "id": "cfc327fa",
   "metadata": {},
   "source": [
    "**O custo pode ser calculado com nossa função custo total**"
   ]
  },
  {
   "cell_type": "code",
   "execution_count": 16,
   "id": "9664e4eb",
   "metadata": {},
   "outputs": [
    {
     "name": "stdout",
     "output_type": "stream",
     "text": [
      "[[76.52219093]]\n",
      "[[76.52219093]]\n"
     ]
    }
   ],
   "source": [
    "# Usando os parâmetros do sklearn \n",
    "print (custo_total (X_teste, y_teste, lin_reg.coef_, lin_reg.intercept_))\n",
    "\n",
    "# Usando os parâmetros da nossa fórmula da função fechada\n",
    "print (custo_total (X_teste, y_teste, w_hat, b_hat))"
   ]
  },
  {
   "cell_type": "markdown",
   "id": "8aeed21b",
   "metadata": {},
   "source": [
    "Também podemos calcular o custo com o sklearn. \n",
    "\n",
    "Nesse caso, o valor quadrático é multiplicado por $\\frac{1}{m}$ ao invés de $\\frac{1}{2m}$ "
   ]
  },
  {
   "cell_type": "code",
   "execution_count": 17,
   "id": "b83a2cb4",
   "metadata": {},
   "outputs": [],
   "source": [
    "from sklearn.metrics import mean_squared_error"
   ]
  },
  {
   "cell_type": "code",
   "execution_count": 18,
   "id": "5fd6bfac",
   "metadata": {},
   "outputs": [
    {
     "data": {
      "text/plain": [
       "153.04438186348077"
      ]
     },
     "execution_count": 18,
     "metadata": {},
     "output_type": "execute_result"
    }
   ],
   "source": [
    "mean_squared_error(lin_reg.predict(X_teste), y_teste)"
   ]
  },
  {
   "cell_type": "code",
   "execution_count": 20,
   "id": "952ded38",
   "metadata": {},
   "outputs": [
    {
     "data": {
      "text/plain": [
       "76.52219093174038"
      ]
     },
     "execution_count": 20,
     "metadata": {},
     "output_type": "execute_result"
    }
   ],
   "source": [
    "# Dividindo o valor acima por 2, chegamos  aos nossos valores da função custo_total\n",
    "\n",
    "mean_squared_error(lin_reg.predict(X_teste), y_teste)/2"
   ]
  },
  {
   "cell_type": "markdown",
   "id": "f203c494",
   "metadata": {},
   "source": [
    "------------------------------------------------------------------------------------------------------------\n",
    "\n",
    "------------------------------------------------------------------------------------------------------------\n",
    "\n",
    "------------------------------------------------------------------------------------------------------------\n",
    "\n",
    "------------------------------------------------------------------------------------------------------------"
   ]
  },
  {
   "cell_type": "markdown",
   "id": "647e1442-6c9b-4029-9bc1-5899c3aacad5",
   "metadata": {},
   "source": [
    "## Regressão linear com vários atributos"
   ]
  },
  {
   "cell_type": "markdown",
   "id": "996d2fbc-740f-4f43-8820-4d256fde2dfc",
   "metadata": {},
   "source": [
    "No caso genérico, uma observação, então, é dada por um vetor de $d$ atributos $\\mathbf{x}_i \\in \\mathbb{R}^d$. \n",
    "\n",
    "Considerando o relacionamento entre as variáveis de entrada $\\mathbf{x}_i \\in \\mathbb{R}^d$ e o valor de saída $y\\in\\mathbb{R}$ linear, temos uma **regressão linear**:\n",
    "\n",
    "$$y=\\mathbf{w}^{T}\\mathbf{x} + \\epsilon$$\n"
   ]
  },
  {
   "cell_type": "markdown",
   "id": "0f98d69d-fd34-429b-a8c8-b2f67c1f43f7",
   "metadata": {},
   "source": [
    "Onde $\\mathbf{w}^{T}=[w_1,\\ldots,\\ w_n]$ é um vetor de parâmetros, no qual $w_j$ é o coeficiente que multiplica o atributo $x_j$ antes de somar as contribuições de todos os atributos. \n",
    "\n",
    "O coeficiente $w_j$ indica como a variável dependente $y$ muda em média quando $x_j$ é adicionado em uma unidade e as demais variáveis independentes permanecem constantes. \n",
    "\n",
    "Esses parâmetros são valores que controlam o comportamento do sistema, muitas vezes chamados de pesos ou coeficientes da regressão."
   ]
  },
  {
   "cell_type": "markdown",
   "id": "8ed5688a-bf68-4f6f-ac66-afe9a2c8495b",
   "metadata": {},
   "source": [
    "### Adicionando o intercepto"
   ]
  },
  {
   "cell_type": "markdown",
   "id": "6dd76afd-8e2a-45ba-a90c-0bc871021aa5",
   "metadata": {},
   "source": [
    "Frequentemente, o termo regressão linear é usado para um modelo um pouco mais sofisticado, com um parâmetro adicional: o intercepto $b$. \n",
    "\n",
    "\n",
    "Teríamos: $y=\\mathbf{w}^T\\mathbf{x}+b$. \n",
    "\n",
    "No entanto, podemos continuar usando o modelo anterior (apenas com pesos). Para isso, inserimos um valor extra para cada observação $\\vec{x}^{(i)}$, sempre igual a $x_{0}=1$. \n",
    "\n",
    "Dessa forma, o peso correspondente à entrada extra ($w_0$) desempenha o papel do intercepto.\n"
   ]
  },
  {
   "cell_type": "markdown",
   "id": "70a947c9-c9db-4032-b554-1362408e8cdd",
   "metadata": {},
   "source": [
    "### Interpretação"
   ]
  },
  {
   "cell_type": "markdown",
   "id": "ed0c09ef-f165-4bc2-a738-cf7f95fd1f3f",
   "metadata": {},
   "source": [
    "O modelo com $n$ atributos descreve um hiperplano no espaço n-dimensional das variáveis dos coeficientes."
   ]
  },
  {
   "cell_type": "markdown",
   "id": "aac1b673",
   "metadata": {},
   "source": [
    "### Solução Exata"
   ]
  },
  {
   "cell_type": "markdown",
   "id": "1ce180eb-35c2-4da7-8649-ac4726a43a01",
   "metadata": {},
   "source": [
    "\n",
    "$$\\nabla_\\mathbf{w}\\left|\\left|\\mathbf{y}-\\hat{\\mathbf{y}}\\right|\\right|_2^2 = 0\\rightarrow\\nabla_\\mathbf{w}\\left|\\left|\\mathbf{y}-\\mathbf{X}\\hat{\\mathbf{w}}\\right|\\right|_2^2=0$$\n",
    "\n",
    "\n",
    "$$\n",
    "\\nabla_\\mathbf{w}\\left(\\mathbf{y}-\\mathbf{X}\\hat{\\mathbf{w}}\\right)^T\\left(\\mathbf{y}-\\mathbf{X}\\hat{\\mathbf{w}}\\right)=0\n",
    "$$\n",
    "\n",
    "$$\n",
    "\\nabla_\\mathbf{w}\\left(\\mathbf{y}^\\mathbf{T}\\mathbf{y}-2{\\hat{\\mathbf{w}}}^T\\mathbf{X}^\\mathbf{T}\\mathbf{y}+{\\hat{\\mathbf{w}}}^T\\mathbf{X}^\\mathbf{T}\\mathbf{X}\\hat{\\mathbf{w}}\\right)=0\n",
    "$$\n",
    "\n",
    "$$\n",
    "-2\\mathbf{X}^\\mathbf{T}\\mathbf{y}+2\\mathbf{X}^\\mathbf{T}\\mathbf{X}\\hat{\\mathbf{w}}=0\n",
    "$$\n",
    "\n",
    "\n",
    "$$\n",
    "2\\mathbf{X}^\\mathbf{T}\\mathbf{X}\\hat{\\mathbf{w}}=2\\mathbf{X}^\\mathbf{T}\\mathbf{y}\n",
    "$$\n",
    "\n",
    "\n",
    "$$\n",
    "\\mathbf{X}^\\mathbf{T}\\mathbf{X}\\hat{\\mathbf{w}}=\\mathbf{X}^\\mathbf{T}\\mathbf{y}\n",
    "$$\n",
    "\n",
    "$$\n",
    "\\hat{\\mathbf{w}}=\\left(\\mathbf{X}^\\mathbf{T}\\mathbf{X}\\right)^{-1}\\mathbf{X}^\\mathbf{T}\\mathbf{y}\n",
    "$$\n",
    "\n",
    "\n",
    "**Esse resultado é conhecido como Equação Normal**"
   ]
  },
  {
   "cell_type": "markdown",
   "id": "6e7be578",
   "metadata": {},
   "source": [
    "Relembrando nossa matriz de atributos que contém apenas uma coluna (área construída). "
   ]
  },
  {
   "cell_type": "code",
   "execution_count": 21,
   "id": "57cc6961",
   "metadata": {},
   "outputs": [
    {
     "data": {
      "text/plain": [
       "array([[141.72927008],\n",
       "       [158.22193239],\n",
       "       [ 97.0604141 ],\n",
       "       [169.05812849],\n",
       "       [185.64045404],\n",
       "       [112.33115259],\n",
       "       [210.38783202],\n",
       "       [238.66531027],\n",
       "       [119.07186719],\n",
       "       [151.23875659]])"
      ]
     },
     "execution_count": 21,
     "metadata": {},
     "output_type": "execute_result"
    }
   ],
   "source": [
    "X[:10]"
   ]
  },
  {
   "cell_type": "markdown",
   "id": "c594a9d5",
   "metadata": {},
   "source": [
    "Vamos adicionar o valor 1 na primeira coluna da matriz X"
   ]
  },
  {
   "cell_type": "code",
   "execution_count": 22,
   "id": "26bee528",
   "metadata": {},
   "outputs": [
    {
     "data": {
      "text/plain": [
       "array([[  1.        , 141.72927008],\n",
       "       [  1.        , 158.22193239],\n",
       "       [  1.        ,  97.0604141 ],\n",
       "       [  1.        , 169.05812849],\n",
       "       [  1.        , 185.64045404],\n",
       "       [  1.        , 112.33115259],\n",
       "       [  1.        , 210.38783202],\n",
       "       [  1.        , 238.66531027],\n",
       "       [  1.        , 119.07186719],\n",
       "       [  1.        , 151.23875659]])"
      ]
     },
     "execution_count": 22,
     "metadata": {},
     "output_type": "execute_result"
    }
   ],
   "source": [
    "X_novo = np.concatenate([np.ones(shape=(X.shape)), X], axis=1)\n",
    "\n",
    "X_novo[:10]\n"
   ]
  },
  {
   "cell_type": "markdown",
   "id": "c0419b70",
   "metadata": {},
   "source": [
    "**A equação normal pode ser aplicada com uma única linha de código!!**\n",
    "\n",
    "Perceba que chegaremos aos mesmos parâmetros aprendidos com a regressão linear simples acima"
   ]
  },
  {
   "cell_type": "code",
   "execution_count": 23,
   "id": "4042d55b-219e-4aa4-9f45-896fb7ebfe57",
   "metadata": {},
   "outputs": [
    {
     "name": "stdout",
     "output_type": "stream",
     "text": [
      "[[28.61363963]\n",
      " [ 1.96958152]]\n"
     ]
    }
   ],
   "source": [
    "#Equação normal em uma linha de código:\n",
    "\n",
    "w_hat2 = np.linalg.inv(X_novo.T.dot(X_novo)).dot(X_novo.T).dot(y)\n",
    "\n",
    "print(w_hat2)"
   ]
  },
  {
   "cell_type": "code",
   "execution_count": 24,
   "id": "9cc4a741",
   "metadata": {},
   "outputs": [
    {
     "name": "stdout",
     "output_type": "stream",
     "text": [
      "Regressão Linear Simples:  valor de b é [[28.61363963]],  valor de w é [[1.96958152]]\n",
      "Equação Normal: valor de w_0:[28.61363963], valor de w: [1.96958152]\n"
     ]
    }
   ],
   "source": [
    "print (f\"Regressão Linear Simples:  valor de b é {b_hat},  valor de w é {w_hat}\")\n",
    "\n",
    "print (f\"Equação Normal: valor de w_0:{w_hat2[0]}, valor de w: {w_hat2[1]}\")"
   ]
  }
 ],
 "metadata": {
  "kernelspec": {
   "display_name": "Python 3.9.7 ('base')",
   "language": "python",
   "name": "python3"
  },
  "language_info": {
   "codemirror_mode": {
    "name": "ipython",
    "version": 3
   },
   "file_extension": ".py",
   "mimetype": "text/x-python",
   "name": "python",
   "nbconvert_exporter": "python",
   "pygments_lexer": "ipython3",
   "version": "3.9.7"
  },
  "vscode": {
   "interpreter": {
    "hash": "e4cce46d6be9934fbd27f9ca0432556941ea5bdf741d4f4d64c6cd7f8dfa8fba"
   }
  }
 },
 "nbformat": 4,
 "nbformat_minor": 5
}
