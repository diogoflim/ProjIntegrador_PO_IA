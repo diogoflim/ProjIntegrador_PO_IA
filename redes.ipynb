{
 "cells": [
  {
   "cell_type": "markdown",
   "metadata": {},
   "source": [
    "[![Open In Colab](https://colab.research.google.com/assets/colab-badge.svg)](https://colab.research.google.com/github/diogoflim/ProjIntegrador_PO_IA/blob/main/redes.ipynb)\n"
   ]
  },
  {
   "cell_type": "markdown",
   "metadata": {},
   "source": [
    "# Projeto Integrador - Aplicações de Pesquisa Operacional e Inteligência Artificial\n",
    "\n",
    "Prof: Diogo Ferreira de Lima Silva (TEP - UFF)"
   ]
  },
  {
   "cell_type": "markdown",
   "metadata": {},
   "source": [
    "# Otimização em Redes"
   ]
  },
  {
   "cell_type": "code",
   "execution_count": 2,
   "metadata": {},
   "outputs": [],
   "source": [
    "import networkx as nx"
   ]
  },
  {
   "cell_type": "markdown",
   "metadata": {},
   "source": [
    "Vamos criar o grafo visto na aula!\n",
    "\n",
    "Para isso, podemos usar a biblioteca networkx!"
   ]
  },
  {
   "cell_type": "code",
   "execution_count": 9,
   "metadata": {},
   "outputs": [],
   "source": [
    "# Instanciando o nosso grafo e atribuindo o grafo à G\n",
    "G = nx.Graph()"
   ]
  },
  {
   "cell_type": "markdown",
   "metadata": {},
   "source": [
    "No momento, nosso grafo é apenas uma instância vazia. Não possui vértices nem arestas!"
   ]
  },
  {
   "cell_type": "code",
   "execution_count": 12,
   "metadata": {},
   "outputs": [
    {
     "data": {
      "text/plain": [
       "<networkx.classes.graph.Graph at 0x1996b01b790>"
      ]
     },
     "execution_count": 12,
     "metadata": {},
     "output_type": "execute_result"
    }
   ],
   "source": [
    "G"
   ]
  },
  {
   "cell_type": "code",
   "execution_count": 13,
   "metadata": {},
   "outputs": [
    {
     "data": {
      "text/plain": [
       "NodeView(())"
      ]
     },
     "execution_count": 13,
     "metadata": {},
     "output_type": "execute_result"
    }
   ],
   "source": [
    "G.nodes"
   ]
  },
  {
   "cell_type": "code",
   "execution_count": 14,
   "metadata": {},
   "outputs": [
    {
     "data": {
      "text/plain": [
       "EdgeView([])"
      ]
     },
     "execution_count": 14,
     "metadata": {},
     "output_type": "execute_result"
    }
   ],
   "source": [
    "G.edges"
   ]
  },
  {
   "cell_type": "markdown",
   "metadata": {},
   "source": [
    "Para inserir vértices no grafo, basta usar o método .add_nodes_from"
   ]
  },
  {
   "cell_type": "code",
   "execution_count": 17,
   "metadata": {},
   "outputs": [
    {
     "data": {
      "text/plain": [
       "NodeView(('O', 'A', 'B', 'C', 'D', 'E', 'T'))"
      ]
     },
     "execution_count": 17,
     "metadata": {},
     "output_type": "execute_result"
    }
   ],
   "source": [
    "G.add_nodes_from([\"O\", \"A\", \"B\", \"C\", \"D\", \"E\", \"T\"])\n",
    "G.nodes\n"
   ]
  },
  {
   "cell_type": "markdown",
   "metadata": {},
   "source": [
    "Algo parecido pode ser usado para inserir as arestas!\n",
    "\n",
    "Lembrando que para os problemas AGM e caminho mínimo, nossas arestas possuem os seguintes pesos:"
   ]
  },
  {
   "cell_type": "code",
   "execution_count": 18,
   "metadata": {},
   "outputs": [],
   "source": [
    "G.add_edges_from ([(\"O\", \"A\", {\"distância\": 2}),\n",
    "                   (\"O\", \"B\", {\"distância\": 5}),\n",
    "                   (\"O\", \"C\", {\"distância\": 4}),\n",
    "                   (\"A\", \"B\", {\"distância\": 2}),\n",
    "                   (\"A\", \"D\", {\"distância\": 7}),\n",
    "                   (\"B\", \"C\", {\"distância\": 1}),\n",
    "                   (\"B\", \"D\", {\"distância\": 4}),\n",
    "                   (\"B\", \"E\", {\"distância\": 3}),\n",
    "                   (\"C\", \"E\", {\"distância\": 4}),\n",
    "                   (\"D\", \"E\", {\"distância\": 1}),\n",
    "                   (\"D\", \"T\", {\"distância\": 5}),\n",
    "                   (\"E\", \"T\", {\"distância\": 7})])"
   ]
  },
  {
   "cell_type": "markdown",
   "metadata": {},
   "source": [
    "Vamos visualizar o nosso grafo!"
   ]
  },
  {
   "cell_type": "code",
   "execution_count": 19,
   "metadata": {},
   "outputs": [],
   "source": [
    "import matplotlib.pyplot as plt"
   ]
  },
  {
   "cell_type": "code",
   "execution_count": 34,
   "metadata": {},
   "outputs": [
    {
     "data": {
      "text/plain": [
       "{('O', 'A'): Text(-0.6957734602470755, -0.025947899980011735, '2'),\n",
       " ('O', 'B'): Text(-0.49612209023932285, 0.20825633790150944, '5'),\n",
       " ('O', 'C'): Text(-0.4698827625007839, 0.5154147978560931, '4'),\n",
       " ('A', 'B'): Text(-0.39423532023172975, -0.15223530649164985, '2'),\n",
       " ('A', 'D'): Text(-0.1776048781968134, -0.4225729411466135, '7'),\n",
       " ('B', 'C'): Text(-0.1683446224854382, 0.38912739134445495, '1'),\n",
       " ('B', 'D'): Text(0.022046491810939248, -0.18836870326509234, '4'),\n",
       " ('B', 'E'): Text(0.14748764069759757, 0.11690423784656766, '3'),\n",
       " ('C', 'E'): Text(0.1737269684361365, 0.4240626978011513, '4'),\n",
       " ('D', 'E'): Text(0.3641180827325139, -0.15343339680839602, '1'),\n",
       " ('D', 'T'): Text(0.6193384669229278, -0.43909926351607553, '5'),\n",
       " ('E', 'T'): Text(0.7447796158095861, -0.13382632240441555, '7')}"
      ]
     },
     "execution_count": 34,
     "metadata": {},
     "output_type": "execute_result"
    },
    {
     "data": {
      "image/png": "[encoded data removed]",
      "text/plain": [
       "<Figure size 432x288 with 1 Axes>"
      ]
     },
     "metadata": {},
     "output_type": "display_data"
    }
   ],
   "source": [
    "pos=nx.spring_layout(G)\n",
    "nx.draw_networkx(G,pos)\n",
    "labels = nx.get_edge_attributes(G,'distância')\n",
    "nx.draw_networkx_edge_labels(G,pos,edge_labels=labels)"
   ]
  },
  {
   "cell_type": "markdown",
   "metadata": {},
   "source": [
    "## Árvore Geradora Mínima"
   ]
  },
  {
   "cell_type": "code",
   "execution_count": 37,
   "metadata": {},
   "outputs": [
    {
     "name": "stdout",
     "output_type": "stream",
     "text": [
      "As arestas de nossa árvore geradora mínima são:\n",
      "[('O', 'A'), ('A', 'B'), ('B', 'C'), ('B', 'E'), ('D', 'E'), ('D', 'T')]\n",
      "O custo obtido pela árvore geradora mínima é: 14\n"
     ]
    }
   ],
   "source": [
    "AGM = nx.minimum_spanning_tree(\n",
    "    G,                  \n",
    "    weight='distância',\n",
    "    algorithm='prim'    # Definindo o algoritmo ultilizado como sendo Prim. Poderíamos usar 'kruskal' por exemplo.\n",
    "    )\n",
    "\n",
    "print(f\"As arestas de nossa árvore geradora mínima são:\\n{AGM.edges}\") # Exibe o número de nós e arestas da AGM\n",
    "print(f\"O custo obtido pela árvore geradora mínima é: {sum(AGM.edges[e]['distância'] for e in AGM.edges)}\")"
   ]
  },
  {
   "cell_type": "markdown",
   "metadata": {},
   "source": [
    "## Caminho Mais Curto"
   ]
  },
  {
   "cell_type": "code",
   "execution_count": 36,
   "metadata": {},
   "outputs": [
    {
     "name": "stdout",
     "output_type": "stream",
     "text": [
      "Caminho mais curto:['O', 'A', 'B', 'D', 'T']\n",
      "Comprimento do caminho:13\n"
     ]
    }
   ],
   "source": [
    "# Calcula o Caminho Mínimo e retorna uma lista de nós\n",
    "vertices = nx.shortest_path(\n",
    "    G,\n",
    "    source= \"O\",\n",
    "    target= \"T\",\n",
    "    weight= 'distância',\n",
    "    method= 'dijkstra'\n",
    "    )\n",
    "\n",
    "# Calcula o comprimento do Caminho Mínimo\n",
    "comprimento = nx.shortest_path_length(\n",
    "   G,\n",
    "    source= \"O\",\n",
    "    target= \"T\",\n",
    "    weight= 'distância',\n",
    "    method= 'dijkstra'\n",
    "    )\n",
    "\n",
    "print(f'Caminho mais curto:{vertices}\\nComprimento do caminho:{comprimento}')"
   ]
  },
  {
   "cell_type": "markdown",
   "metadata": {},
   "source": [
    "## Fluxo Máximo\n",
    "\n",
    "No problema do fluxo máximo, nosso grafo é um pouco diferente. \n",
    "\n",
    "Lembre que agora temos capacidades na rede residual, não distâncias!"
   ]
  },
  {
   "cell_type": "code",
   "execution_count": 38,
   "metadata": {},
   "outputs": [],
   "source": [
    "G = nx.Graph()\n",
    "G.add_nodes_from([\"O\", \"A\", \"B\", \"C\", \"D\", \"E\", \"T\"])\n",
    "G.add_edges_from([(\"O\", \"A\", {\"distância\": 2, \"capacidade\":5}),\n",
    "                   (\"O\", \"B\", {\"distância\": 5, \"capacidade\":7}),\n",
    "                   (\"O\", \"C\", {\"distância\": 4, \"capacidade\":4}),\n",
    "                   (\"A\", \"B\", {\"distância\": 2, \"capacidade\":1}),\n",
    "                   (\"A\", \"D\", {\"distância\": 7, \"capacidade\":3}),\n",
    "                   (\"B\", \"C\", {\"distância\": 1, \"capacidade\":2}),\n",
    "                   (\"B\", \"D\", {\"distância\": 4, \"capacidade\":4}),\n",
    "                   (\"B\", \"E\", {\"distância\": 3, \"capacidade\":5}),\n",
    "                   (\"C\", \"E\", {\"distância\": 4, \"capacidade\":4}),\n",
    "                   (\"E\", \"D\", {\"distância\": 1, \"capacidade\":1}),\n",
    "                   (\"D\", \"T\", {\"distância\": 5, \"capacidade\":9}),\n",
    "                   (\"E\", \"T\", {\"distância\": 7, \"capacidade\":6})])"
   ]
  },
  {
   "cell_type": "code",
   "execution_count": 41,
   "metadata": {},
   "outputs": [
    {
     "name": "stdout",
     "output_type": "stream",
     "text": [
      "Fluxo máximo: 14\n",
      "Dicionário de fluxo: {'O': {'A': 4, 'B': 6, 'C': 4}, 'A': {'O': 0, 'B': 1, 'D': 3}, 'B': {'O': 0, 'A': 0, 'C': 0, 'D': 4, 'E': 3}, 'C': {'O': 0, 'B': 0, 'E': 4}, 'D': {'A': 0, 'B': 0, 'E': 0, 'T': 8}, 'E': {'B': 0, 'C': 0, 'D': 1, 'T': 6}, 'T': {'D': 0, 'E': 0}}\n"
     ]
    }
   ],
   "source": [
    "# Calcula o fluxo máximo\n",
    "fluxo_max, fluxo_dict = nx.maximum_flow(G, 'O', 'T', capacity = 'capacidade')\n",
    "print(\"Fluxo máximo:\", fluxo_max)\n",
    "print(\"Dicionário de fluxo:\", fluxo_dict)"
   ]
  },
  {
   "cell_type": "markdown",
   "metadata": {},
   "source": [
    "## Fluxo Máximo X Corte Mínimo"
   ]
  },
  {
   "cell_type": "code",
   "execution_count": 44,
   "metadata": {},
   "outputs": [
    {
     "name": "stdout",
     "output_type": "stream",
     "text": [
      "Valor do Corte Mínimo: 14\n",
      "Partição dos vértices a partir do corte mínimo: ({'O', 'C', 'B', 'A', 'E'}, {'D', 'T'})\n"
     ]
    }
   ],
   "source": [
    "# Corte mínimo\n",
    "corte_min, part = nx.minimum_cut(G, 'O', 'T', capacity = 'capacidade')\n",
    "# Imprime os resultados\n",
    "print(\"Valor do Corte Mínimo:\", corte_min)\n",
    "print(\"Partição dos vértices a partir do corte mínimo:\", part)"
   ]
  },
  {
   "cell_type": "markdown",
   "metadata": {},
   "source": [
    "# Pyomo - Modendo problemas de Otimização"
   ]
  },
  {
   "cell_type": "markdown",
   "metadata": {},
   "source": [
    "## Problema dos Transportes"
   ]
  },
  {
   "cell_type": "markdown",
   "metadata": {},
   "source": [
    "Uma empresa possui três fábricas que produzem carrinhos de bebê que devem ser remetidos para quatro centros de distribuição. As Fábricas F1, F2 e F3 produzem, respectivamente, 12, 17 e 11 remessas por mês. Cada centro de distribuição CD precisa receber dez remessas por mês. Com base na tabela de custos abaixo, que mostra o custo unitário de transporte das Fábricas à cada CD, quanto deve ser remetido de cada fábrica para cada um dos centros de distribuição para minimizar o custo total de transporte?\n",
    "\n",
    "<center>\n",
    "\n",
    "|Fábrica|$CD1$|$CD2$|$CD3$|$CD4$|\n",
    "|:-----:|:---:|:---:|:---:|:---:|\n",
    "|$F1$   |40100|65100|20100|35100|\n",
    "|$F2$   |55100|70100|30100|50100|\n",
    "|$F3$   |30100|60100|40100|45100|\n",
    "\n",
    "</center>\n"
   ]
  },
  {
   "cell_type": "markdown",
   "metadata": {},
   "source": [
    "## Formulação do Problema\n",
    "\n",
    "A formulação deste modelo seria uma instância do problema de transporte, podendo ser dado como:\n",
    "\n",
    "$$\n",
    "\\text{Min } z = 40100x_{11} + 65100x_{12} + 20100x_{13} + 35100x_{14} + 55100x_{21} + 70100x_{22} + 30100x_{23} + 50100x_{24} + 30100x_{31} + 60100x_{32} + 40100x_{33} + 45100x_{34}\\\\\n",
    "$$\n",
    "$$\n",
    "\\begin{equation}\n",
    "  \\begin{array}{rll}\n",
    "    \\text{Sujeito a: } & & \\\\\n",
    "    & x_{11} + x_{12} + x_{13} + x_{14} \\le 12 & \\text{(Fábrica 1)} \\\\\n",
    "    & x_{21} + x_{22} + x_{23} + x_{24} \\le 17 & \\text{(Fábrica 2)} \\\\\n",
    "    & x_{31} + x_{32} + x_{33} + x_{34} \\le 11 & \\text{(Fábrica 3)} \\\\\n",
    "    & x_{11} + x_{21} + x_{31} \\ge 10 & \\text{(Centro de Distribuição 1)} \\\\\n",
    "    & x_{12} + x_{22} + x_{32} \\ge 10 & \\text{(Centro de Distribuição 2)} \\\\\n",
    "    & x_{13} + x_{23} + x_{33} \\ge 10 & \\text{(Centro de Distribuição 3)} \\\\\n",
    "    & x_{14} + x_{24} + x_{34} \\ge 10 & \\text{(Centro de Distribuição 4)} \\\\\n",
    "    & x_{ij} \\ge 0 \\\\\n",
    "  \\end{array}\n",
    "\\end{equation}\n",
    "$$\n",
    "Onde $x_{ij}$ é a quantidade de remessas enviadas da fábrica $i$ para o centro de distribuição $j$."
   ]
  },
  {
   "cell_type": "code",
   "execution_count": null,
   "metadata": {},
   "outputs": [],
   "source": [
    "#Execute esse bloco caso esteja executando no Google Colab\n",
    "!pip install -q pyomo\n",
    "!pip install -i https://pypi.gurobi.com gurobipy\n",
    "\n"
   ]
  },
  {
   "cell_type": "code",
   "execution_count": null,
   "metadata": {},
   "outputs": [],
   "source": [
    "import pyomo.environ as pyo # Importando o Pyomo"
   ]
  },
  {
   "cell_type": "code",
   "execution_count": null,
   "metadata": {},
   "outputs": [],
   "source": [
    "c = pd.DataFrame ([[40100, 65100, 20100, 35100], # F1\n",
    "                    [55100, 70100, 30100, 50100], # F2\n",
    "                    [30100, 60100, 40100, 45100]])\n",
    "\n",
    "c_dict = c.stack().to_dict()\n",
    "\n",
    "# Vamos armazenar nossas ofertas e demandas nas listas abaixo:\n",
    "a = [12, 17, 11]\n",
    "b = [10, 10, 10, 10]\n",
    "\n",
    "m = len(a)\n",
    "n = len(b)"
   ]
  },
  {
   "cell_type": "code",
   "execution_count": null,
   "metadata": {},
   "outputs": [],
   "source": [
    "# Criando uma instância do modelo\n",
    "M = pyo.ConcreteModel() "
   ]
  },
  {
   "cell_type": "code",
   "execution_count": null,
   "metadata": {},
   "outputs": [],
   "source": [
    "# Criando dois índices para serem usados no pyomo\n",
    "M.fabricas = pyo.Set(initialize = range(m)) # Índice para as fábricas\n",
    "M.cds = pyo.Set(initialize = range(n)) # Índice para os centros de distribuição"
   ]
  },
  {
   "cell_type": "code",
   "execution_count": null,
   "metadata": {},
   "outputs": [],
   "source": [
    "# PASSANDO OS PARÂMETROS DO PROBLEMA\n",
    "\n",
    "# Custos de transporte da fábrica i para o centro de dsitribuição j\n",
    "M.custos = pyo.Param(M.fabricas, M.cds, initialize = c_dict)\n",
    "\n",
    "# Capacidade de cada fábrica\n",
    "M.capacidades = pyo.Param (M.fabricas, initialize = a)\n",
    "\n",
    "# Demanda de cada centro de distribuição\n",
    "M.demandas = pyo.Param (M.cds, initialize = b)"
   ]
  },
  {
   "cell_type": "code",
   "execution_count": null,
   "metadata": {},
   "outputs": [],
   "source": [
    "# VARIÁVEIS DE DECISÃO\n",
    "# xij representa a quantidade de remessas enviada da fábrica i para o CD j\n",
    "M.x = pyo.Var(M.fabricas, M.cds, within= pyo.NonNegativeReals)"
   ]
  },
  {
   "cell_type": "code",
   "execution_count": null,
   "metadata": {},
   "outputs": [],
   "source": [
    "def custo_total (M):\n",
    "    return sum(M.x[i,j] * M.custos[i,j] for i in M.fabricas for j in M.cds)\n",
    "\n",
    "# FUNÇÃO OBJETIVO\n",
    "M.obj = pyo.Objective(rule= custo_total ,sense= pyo.minimize)\n",
    "  "
   ]
  },
  {
   "cell_type": "code",
   "execution_count": null,
   "metadata": {},
   "outputs": [],
   "source": [
    "# R1: O total de remessas despachada por cada fábrica não pode ser maior que a sua oferta.\n",
    "M.R_ofertas = pyo.Constraint(M.fabricas, rule= lambda M, i: sum(M.x[i, j] for j in M.cds) <= M.capacidades[i])\n",
    "\n",
    "# R2: Cada centro de distribuição deve ter a sua demanda atendida\n",
    "M.R_demandas = pyo.Constraint(M.cds, rule= lambda M, j: sum(M.x[i, j] for i in M.fabricas) >= M.demandas[j])"
   ]
  },
  {
   "cell_type": "code",
   "execution_count": null,
   "metadata": {},
   "outputs": [],
   "source": [
    "# RESOLUÇÃO DO MODELO\n",
    "pyo.SolverFactory('gurobi').solve(M)"
   ]
  },
  {
   "cell_type": "code",
   "execution_count": null,
   "metadata": {},
   "outputs": [],
   "source": [
    "print(f\"z= {pyo.value(M.obj)}\")\n",
    "\n",
    "for k in M.x.keys(): \n",
    "    if pyo.value(M.x[k]) > 0:\n",
    "        print (f\"x_{k} = {pyo.value(M.x[k])}\")"
   ]
  }
 ],
 "metadata": {
  "kernelspec": {
   "display_name": "base",
   "language": "python",
   "name": "python3"
  },
  "language_info": {
   "codemirror_mode": {
    "name": "ipython",
    "version": 3
   },
   "file_extension": ".py",
   "mimetype": "text/x-python",
   "name": "python",
   "nbconvert_exporter": "python",
   "pygments_lexer": "ipython3",
   "version": "3.9.7"
  },
  "orig_nbformat": 4
 },
 "nbformat": 4,
 "nbformat_minor": 2
}
